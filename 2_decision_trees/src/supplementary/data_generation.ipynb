{
 "cells": [
  {
   "cell_type": "markdown",
   "metadata": {},
   "source": [
    "# Generating dataset\n",
    "\n",
    "I’ve done my best, but wasn’t able to find a good dataset of alien life forms, so let’s go another way and simulate one. It’s a useful exercise on its own, as it gives you probabilistic perspective and helps you to reason about your data in statistical terms of random variables. \n",
    "\n",
    "// https://docs.scipy.org/doc/numpy/reference/routines.random.html\n",
    "\n",
    "NumPy is Python package for scientific computing. It provides multidimensional arrays, random number generation, linear algebra and other useful things. We’ll start by importing it:"
   ]
  },
  {
   "cell_type": "code",
   "execution_count": 28,
   "metadata": {
    "collapsed": true
   },
   "outputs": [],
   "source": [
    "import numpy as np"
   ]
  },
  {
   "cell_type": "markdown",
   "metadata": {},
   "source": [
    "np variable now hold a link to `numpy` libray.\n",
    "\n",
    "Setting seed for a pseudo-random number generator. This is needed to get the same results, when re-running the code. If you forget to do this you’ll get different random numbers every times you run the code. `123` in this case is just some constant number. You can change it to 42 or any other."
   ]
  },
  {
   "cell_type": "code",
   "execution_count": 29,
   "metadata": {
    "collapsed": true
   },
   "outputs": [],
   "source": [
    "np.random.seed(123)"
   ]
  },
  {
   "cell_type": "markdown",
   "metadata": {},
   "source": [
    "## Generating labels"
   ]
  },
  {
   "cell_type": "code",
   "execution_count": 30,
   "metadata": {
    "collapsed": true
   },
   "outputs": [],
   "source": [
    "labels = [\"rabbosaurus\", \"platyhog\"]\n",
    "y = np.random.choice(labels, size=1000, replace=True)"
   ]
  },
  {
   "cell_type": "code",
   "execution_count": 31,
   "metadata": {
    "scrolled": true
   },
   "outputs": [
    {
     "data": {
      "text/plain": [
       "array(['rabbosaurus', 'platyhog', 'rabbosaurus', 'rabbosaurus',\n",
       "       'rabbosaurus', 'rabbosaurus', 'rabbosaurus', 'platyhog', 'platyhog',\n",
       "       'rabbosaurus', 'platyhog', 'platyhog', 'rabbosaurus', 'platyhog',\n",
       "       'rabbosaurus', 'platyhog', 'rabbosaurus', 'platyhog', 'platyhog',\n",
       "       'rabbosaurus', 'rabbosaurus', 'rabbosaurus', 'platyhog', 'platyhog',\n",
       "       'platyhog', 'rabbosaurus', 'platyhog', 'rabbosaurus', 'rabbosaurus',\n",
       "       'rabbosaurus', 'rabbosaurus', 'platyhog', 'platyhog', 'platyhog',\n",
       "       'rabbosaurus', 'rabbosaurus', 'platyhog', 'rabbosaurus',\n",
       "       'rabbosaurus', 'platyhog', 'rabbosaurus', 'platyhog', 'rabbosaurus',\n",
       "       'platyhog', 'platyhog', 'platyhog', 'rabbosaurus', 'rabbosaurus',\n",
       "       'rabbosaurus', 'rabbosaurus'],\n",
       "      dtype='|S11')"
      ]
     },
     "execution_count": 31,
     "metadata": {},
     "output_type": "execute_result"
    }
   ],
   "source": [
    "y[:50]"
   ]
  },
  {
   "cell_type": "markdown",
   "metadata": {},
   "source": [
    "## Creating random length feature"
   ]
  },
  {
   "cell_type": "code",
   "execution_count": 32,
   "metadata": {
    "collapsed": true
   },
   "outputs": [],
   "source": [
    "count_r = y[y == labels[0]].shape[0]\n",
    "count_p = y.shape[0]-count_r\n",
    "\n",
    "length_f = np.zeros(y.shape[0])\n",
    "length_f[y == labels[0]] = np.random.normal(loc=30, scale=5, size=count_r)\n",
    "length_f[y == labels[1]] = np.random.normal(loc=20, scale=5, size=count_p)"
   ]
  },
  {
   "cell_type": "code",
   "execution_count": 33,
   "metadata": {},
   "outputs": [
    {
     "data": {
      "text/plain": [
       "array([ 27.54513859,  12.14735699,  23.45417343,  29.95669767,\n",
       "        34.88406491,  21.24464825,  26.67071516,  11.0305554 ,\n",
       "        18.67506774,  30.17970251,  15.53402026,  29.29237205,\n",
       "        34.25051442,  20.29268877,  31.9143512 ,  10.28925228,\n",
       "        31.62731814,  27.09364638,  20.80855155,  28.87843607,\n",
       "        32.40937129,  35.07151942,  23.5248974 ,  23.41017388,\n",
       "        21.48278284,  21.45504112,  22.61671315,  33.642677  ,\n",
       "        29.50620097,  27.35005568,  17.78462107,  21.19380336,\n",
       "        14.46807047,  21.83366099,  23.09824338,  38.49029496,\n",
       "        25.11952752,  26.55725734,  24.57615614,  18.94971794,\n",
       "        27.71787022,  22.75651109,  26.27426389,  22.09794573,\n",
       "        29.07826032,  18.7362485 ,  30.62179316,  37.58486839,\n",
       "        27.06692025,  30.77145025])"
      ]
     },
     "execution_count": 33,
     "metadata": {},
     "output_type": "execute_result"
    }
   ],
   "source": [
    "length_f[:50]"
   ]
  },
  {
   "cell_type": "markdown",
   "metadata": {},
   "source": [
    "## Creating random color feature"
   ]
  },
  {
   "cell_type": "code",
   "execution_count": 34,
   "metadata": {},
   "outputs": [
    {
     "name": "stdout",
     "output_type": "stream",
     "text": [
      "(['space gray', 'light black', 'pink gold'], ['light black', 'pink gold', 'purple polka-dot'])\n"
     ]
    }
   ],
   "source": [
    "colors = [\"space gray\", \"light black\", \"pink gold\", \"purple polka-dot\"]\n",
    "col_r = colors[:3]\n",
    "col_p = colors[1:]\n",
    "print(col_r, col_p)"
   ]
  },
  {
   "cell_type": "code",
   "execution_count": 42,
   "metadata": {},
   "outputs": [],
   "source": [
    "colors_f = np.zeros(y.shape[0], dtype=\"S16\")\n",
    "colors_f[y == labels[0]] = np.random.choice(col_r, size=count_r, replace=True)\n",
    "colors_f[y == labels[1]] = np.random.choice(col_p, size=count_p, replace=True)"
   ]
  },
  {
   "cell_type": "code",
   "execution_count": 43,
   "metadata": {},
   "outputs": [
    {
     "data": {
      "text/plain": [
       "array(['pink gold', 'pink gold', 'light black', 'pink gold', 'light black',\n",
       "       'pink gold', 'space gray', 'pink gold', 'pink gold', 'light black',\n",
       "       'pink gold', 'pink gold', 'light black', 'pink gold', 'pink gold',\n",
       "       'pink gold', 'light black', 'pink gold', 'pink gold', 'space gray',\n",
       "       'light black', 'light black', 'light black', 'pink gold',\n",
       "       'purple polka-dot', 'pink gold', 'purple polka-dot', 'light black',\n",
       "       'space gray', 'space gray', 'space gray', 'purple polka-dot',\n",
       "       'light black', 'light black', 'light black', 'light black',\n",
       "       'pink gold', 'light black', 'space gray', 'purple polka-dot',\n",
       "       'space gray', 'pink gold', 'light black', 'light black',\n",
       "       'pink gold', 'pink gold', 'space gray', 'pink gold', 'pink gold',\n",
       "       'space gray'],\n",
       "      dtype='|S16')"
      ]
     },
     "execution_count": 43,
     "metadata": {},
     "output_type": "execute_result"
    }
   ],
   "source": [
    "colors_f[:50]"
   ]
  },
  {
   "cell_type": "markdown",
   "metadata": {},
   "source": [
    "## Creating random fluffiness feature"
   ]
  },
  {
   "cell_type": "code",
   "execution_count": 44,
   "metadata": {
    "collapsed": true
   },
   "outputs": [],
   "source": [
    "fluffy_f = np.zeros(y.shape[0], dtype=\"bool\")\n",
    "fluffy_f[y == labels[0]] = np.random.randint(0,100,count_r)<90\n",
    "fluffy_f[y == labels[1]] = np.random.randint(0,100,count_p)>70"
   ]
  },
  {
   "cell_type": "code",
   "execution_count": 45,
   "metadata": {},
   "outputs": [
    {
     "data": {
      "text/plain": [
       "array([ True, False,  True,  True,  True, False,  True,  True,  True,\n",
       "        True,  True, False,  True,  True,  True,  True,  True, False,\n",
       "       False,  True, False,  True, False,  True,  True,  True,  True,\n",
       "        True,  True,  True,  True, False, False, False,  True,  True,\n",
       "       False,  True,  True, False,  True, False, False,  True, False,\n",
       "        True,  True,  True,  True,  True], dtype=bool)"
      ]
     },
     "execution_count": 45,
     "metadata": {},
     "output_type": "execute_result"
    }
   ],
   "source": [
    "fluffy_f[:50]"
   ]
  },
  {
   "cell_type": "markdown",
   "metadata": {},
   "source": [
    "## Creating data frame"
   ]
  },
  {
   "cell_type": "code",
   "execution_count": 46,
   "metadata": {
    "collapsed": true
   },
   "outputs": [],
   "source": [
    "import pandas as pd"
   ]
  },
  {
   "cell_type": "code",
   "execution_count": 47,
   "metadata": {},
   "outputs": [],
   "source": [
    "df = pd.DataFrame(data={'length': length_f, 'color': colors_f, 'fluffy': fluffy_f, 'label': y})\n",
    "df = df[['length', 'color', 'fluffy', 'label']]"
   ]
  },
  {
   "cell_type": "code",
   "execution_count": 48,
   "metadata": {},
   "outputs": [
    {
     "data": {
      "text/html": [
       "<div>\n",
       "<style>\n",
       "    .dataframe thead tr:only-child th {\n",
       "        text-align: right;\n",
       "    }\n",
       "\n",
       "    .dataframe thead th {\n",
       "        text-align: left;\n",
       "    }\n",
       "\n",
       "    .dataframe tbody tr th {\n",
       "        vertical-align: top;\n",
       "    }\n",
       "</style>\n",
       "<table border=\"1\" class=\"dataframe\">\n",
       "  <thead>\n",
       "    <tr style=\"text-align: right;\">\n",
       "      <th></th>\n",
       "      <th>length</th>\n",
       "      <th>color</th>\n",
       "      <th>fluffy</th>\n",
       "      <th>label</th>\n",
       "    </tr>\n",
       "  </thead>\n",
       "  <tbody>\n",
       "    <tr>\n",
       "      <th>0</th>\n",
       "      <td>27.545139</td>\n",
       "      <td>pink gold</td>\n",
       "      <td>True</td>\n",
       "      <td>rabbosaurus</td>\n",
       "    </tr>\n",
       "    <tr>\n",
       "      <th>1</th>\n",
       "      <td>12.147357</td>\n",
       "      <td>pink gold</td>\n",
       "      <td>False</td>\n",
       "      <td>platyhog</td>\n",
       "    </tr>\n",
       "    <tr>\n",
       "      <th>2</th>\n",
       "      <td>23.454173</td>\n",
       "      <td>light black</td>\n",
       "      <td>True</td>\n",
       "      <td>rabbosaurus</td>\n",
       "    </tr>\n",
       "    <tr>\n",
       "      <th>3</th>\n",
       "      <td>29.956698</td>\n",
       "      <td>pink gold</td>\n",
       "      <td>True</td>\n",
       "      <td>rabbosaurus</td>\n",
       "    </tr>\n",
       "    <tr>\n",
       "      <th>4</th>\n",
       "      <td>34.884065</td>\n",
       "      <td>light black</td>\n",
       "      <td>True</td>\n",
       "      <td>rabbosaurus</td>\n",
       "    </tr>\n",
       "  </tbody>\n",
       "</table>\n",
       "</div>"
      ],
      "text/plain": [
       "      length        color  fluffy        label\n",
       "0  27.545139    pink gold    True  rabbosaurus\n",
       "1  12.147357    pink gold   False     platyhog\n",
       "2  23.454173  light black    True  rabbosaurus\n",
       "3  29.956698    pink gold    True  rabbosaurus\n",
       "4  34.884065  light black    True  rabbosaurus"
      ]
     },
     "execution_count": 48,
     "metadata": {},
     "output_type": "execute_result"
    }
   ],
   "source": [
    "df.head()"
   ]
  },
  {
   "cell_type": "code",
   "execution_count": 49,
   "metadata": {},
   "outputs": [
    {
     "data": {
      "text/html": [
       "<div>\n",
       "<style>\n",
       "    .dataframe thead tr:only-child th {\n",
       "        text-align: right;\n",
       "    }\n",
       "\n",
       "    .dataframe thead th {\n",
       "        text-align: left;\n",
       "    }\n",
       "\n",
       "    .dataframe tbody tr th {\n",
       "        vertical-align: top;\n",
       "    }\n",
       "</style>\n",
       "<table border=\"1\" class=\"dataframe\">\n",
       "  <thead>\n",
       "    <tr style=\"text-align: right;\">\n",
       "      <th></th>\n",
       "      <th>length</th>\n",
       "      <th>color</th>\n",
       "      <th>fluffy</th>\n",
       "      <th>label</th>\n",
       "    </tr>\n",
       "  </thead>\n",
       "  <tbody>\n",
       "    <tr>\n",
       "      <th>995</th>\n",
       "      <td>27.621761</td>\n",
       "      <td>pink gold</td>\n",
       "      <td>False</td>\n",
       "      <td>rabbosaurus</td>\n",
       "    </tr>\n",
       "    <tr>\n",
       "      <th>996</th>\n",
       "      <td>20.436062</td>\n",
       "      <td>purple polka-dot</td>\n",
       "      <td>False</td>\n",
       "      <td>platyhog</td>\n",
       "    </tr>\n",
       "    <tr>\n",
       "      <th>997</th>\n",
       "      <td>24.937142</td>\n",
       "      <td>pink gold</td>\n",
       "      <td>False</td>\n",
       "      <td>platyhog</td>\n",
       "    </tr>\n",
       "    <tr>\n",
       "      <th>998</th>\n",
       "      <td>25.140316</td>\n",
       "      <td>light black</td>\n",
       "      <td>True</td>\n",
       "      <td>rabbosaurus</td>\n",
       "    </tr>\n",
       "    <tr>\n",
       "      <th>999</th>\n",
       "      <td>21.387244</td>\n",
       "      <td>light black</td>\n",
       "      <td>True</td>\n",
       "      <td>platyhog</td>\n",
       "    </tr>\n",
       "  </tbody>\n",
       "</table>\n",
       "</div>"
      ],
      "text/plain": [
       "        length             color  fluffy        label\n",
       "995  27.621761         pink gold   False  rabbosaurus\n",
       "996  20.436062  purple polka-dot   False     platyhog\n",
       "997  24.937142         pink gold   False     platyhog\n",
       "998  25.140316       light black    True  rabbosaurus\n",
       "999  21.387244       light black    True     platyhog"
      ]
     },
     "execution_count": 49,
     "metadata": {},
     "output_type": "execute_result"
    }
   ],
   "source": [
    "df.tail()"
   ]
  },
  {
   "cell_type": "code",
   "execution_count": 50,
   "metadata": {},
   "outputs": [],
   "source": [
    "df.to_csv(\"extraterrestrials.csv\", sep='\\t', encoding='utf-8')"
   ]
  },
  {
   "cell_type": "code",
   "execution_count": null,
   "metadata": {
    "collapsed": true
   },
   "outputs": [],
   "source": []
  }
 ],
 "metadata": {
  "kernelspec": {
   "display_name": "Python 2",
   "language": "python",
   "name": "python2"
  },
  "language_info": {
   "codemirror_mode": {
    "name": "ipython",
    "version": 2
   },
   "file_extension": ".py",
   "mimetype": "text/x-python",
   "name": "python",
   "nbconvert_exporter": "python",
   "pygments_lexer": "ipython2",
   "version": "2.7.10"
  }
 },
 "nbformat": 4,
 "nbformat_minor": 2
}
